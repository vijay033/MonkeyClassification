{
 "cells": [
  {
   "cell_type": "code",
   "execution_count": 1,
   "metadata": {},
   "outputs": [
    {
     "name": "stderr",
     "output_type": "stream",
     "text": [
      "Using TensorFlow backend.\n"
     ]
    }
   ],
   "source": [
    "#importing keras libraries and packages\n",
    "import keras\n",
    "from keras.models import Sequential\n",
    "from keras.layers import Convolution2D\n",
    "from keras.layers import MaxPooling2D\n",
    "from keras.layers import Flatten\n",
    "from keras.layers import Dense\n",
    "from keras.layers import Dropout\n",
    "from keras.layers import regularizers"
   ]
  },
  {
   "cell_type": "code",
   "execution_count": 2,
   "metadata": {},
   "outputs": [],
   "source": [
    "vgg16_model = keras.applications.vgg16.VGG16()"
   ]
  },
  {
   "cell_type": "code",
   "execution_count": 4,
   "metadata": {},
   "outputs": [
    {
     "name": "stdout",
     "output_type": "stream",
     "text": [
      "_________________________________________________________________\n",
      "Layer (type)                 Output Shape              Param #   \n",
      "=================================================================\n",
      "input_1 (InputLayer)         (None, 224, 224, 3)       0         \n",
      "_________________________________________________________________\n",
      "block1_conv1 (Conv2D)        (None, 224, 224, 64)      1792      \n",
      "_________________________________________________________________\n",
      "block1_conv2 (Conv2D)        (None, 224, 224, 64)      36928     \n",
      "_________________________________________________________________\n",
      "block1_pool (MaxPooling2D)   (None, 112, 112, 64)      0         \n",
      "_________________________________________________________________\n",
      "block2_conv1 (Conv2D)        (None, 112, 112, 128)     73856     \n",
      "_________________________________________________________________\n",
      "block2_conv2 (Conv2D)        (None, 112, 112, 128)     147584    \n",
      "_________________________________________________________________\n",
      "block2_pool (MaxPooling2D)   (None, 56, 56, 128)       0         \n",
      "_________________________________________________________________\n",
      "block3_conv1 (Conv2D)        (None, 56, 56, 256)       295168    \n",
      "_________________________________________________________________\n",
      "block3_conv2 (Conv2D)        (None, 56, 56, 256)       590080    \n",
      "_________________________________________________________________\n",
      "block3_conv3 (Conv2D)        (None, 56, 56, 256)       590080    \n",
      "_________________________________________________________________\n",
      "block3_pool (MaxPooling2D)   (None, 28, 28, 256)       0         \n",
      "_________________________________________________________________\n",
      "block4_conv1 (Conv2D)        (None, 28, 28, 512)       1180160   \n",
      "_________________________________________________________________\n",
      "block4_conv2 (Conv2D)        (None, 28, 28, 512)       2359808   \n",
      "_________________________________________________________________\n",
      "block4_conv3 (Conv2D)        (None, 28, 28, 512)       2359808   \n",
      "_________________________________________________________________\n",
      "block4_pool (MaxPooling2D)   (None, 14, 14, 512)       0         \n",
      "_________________________________________________________________\n",
      "block5_conv1 (Conv2D)        (None, 14, 14, 512)       2359808   \n",
      "_________________________________________________________________\n",
      "block5_conv2 (Conv2D)        (None, 14, 14, 512)       2359808   \n",
      "_________________________________________________________________\n",
      "block5_conv3 (Conv2D)        (None, 14, 14, 512)       2359808   \n",
      "_________________________________________________________________\n",
      "block5_pool (MaxPooling2D)   (None, 7, 7, 512)         0         \n",
      "_________________________________________________________________\n",
      "flatten (Flatten)            (None, 25088)             0         \n",
      "_________________________________________________________________\n",
      "fc1 (Dense)                  (None, 4096)              102764544 \n",
      "_________________________________________________________________\n",
      "fc2 (Dense)                  (None, 4096)              16781312  \n",
      "_________________________________________________________________\n",
      "predictions (Dense)          (None, 1000)              4097000   \n",
      "=================================================================\n",
      "Total params: 138,357,544\n",
      "Trainable params: 138,357,544\n",
      "Non-trainable params: 0\n",
      "_________________________________________________________________\n"
     ]
    }
   ],
   "source": [
    "vgg16_model.summary()"
   ]
  },
  {
   "cell_type": "code",
   "execution_count": 5,
   "metadata": {},
   "outputs": [
    {
     "data": {
      "text/plain": [
       "keras.engine.training.Model"
      ]
     },
     "execution_count": 5,
     "metadata": {},
     "output_type": "execute_result"
    }
   ],
   "source": [
    "type(vgg16_model)"
   ]
  },
  {
   "cell_type": "code",
   "execution_count": 6,
   "metadata": {},
   "outputs": [
    {
     "name": "stdout",
     "output_type": "stream",
     "text": [
      "_________________________________________________________________\n",
      "Layer (type)                 Output Shape              Param #   \n",
      "=================================================================\n",
      "input_1 (InputLayer)         (None, 224, 224, 3)       0         \n",
      "_________________________________________________________________\n",
      "block1_conv1 (Conv2D)        (None, 224, 224, 64)      1792      \n",
      "_________________________________________________________________\n",
      "block1_conv2 (Conv2D)        (None, 224, 224, 64)      36928     \n",
      "_________________________________________________________________\n",
      "block1_pool (MaxPooling2D)   (None, 112, 112, 64)      0         \n",
      "_________________________________________________________________\n",
      "block2_conv1 (Conv2D)        (None, 112, 112, 128)     73856     \n",
      "_________________________________________________________________\n",
      "block2_conv2 (Conv2D)        (None, 112, 112, 128)     147584    \n",
      "_________________________________________________________________\n",
      "block2_pool (MaxPooling2D)   (None, 56, 56, 128)       0         \n",
      "_________________________________________________________________\n",
      "block3_conv1 (Conv2D)        (None, 56, 56, 256)       295168    \n",
      "_________________________________________________________________\n",
      "block3_conv2 (Conv2D)        (None, 56, 56, 256)       590080    \n",
      "_________________________________________________________________\n",
      "block3_conv3 (Conv2D)        (None, 56, 56, 256)       590080    \n",
      "_________________________________________________________________\n",
      "block3_pool (MaxPooling2D)   (None, 28, 28, 256)       0         \n",
      "_________________________________________________________________\n",
      "block4_conv1 (Conv2D)        (None, 28, 28, 512)       1180160   \n",
      "_________________________________________________________________\n",
      "block4_conv2 (Conv2D)        (None, 28, 28, 512)       2359808   \n",
      "_________________________________________________________________\n",
      "block4_conv3 (Conv2D)        (None, 28, 28, 512)       2359808   \n",
      "_________________________________________________________________\n",
      "block4_pool (MaxPooling2D)   (None, 14, 14, 512)       0         \n",
      "_________________________________________________________________\n",
      "block5_conv1 (Conv2D)        (None, 14, 14, 512)       2359808   \n",
      "_________________________________________________________________\n",
      "block5_conv2 (Conv2D)        (None, 14, 14, 512)       2359808   \n",
      "_________________________________________________________________\n",
      "block5_conv3 (Conv2D)        (None, 14, 14, 512)       2359808   \n",
      "_________________________________________________________________\n",
      "block5_pool (MaxPooling2D)   (None, 7, 7, 512)         0         \n",
      "_________________________________________________________________\n",
      "flatten (Flatten)            (None, 25088)             0         \n",
      "_________________________________________________________________\n",
      "fc1 (Dense)                  (None, 4096)              102764544 \n",
      "_________________________________________________________________\n",
      "fc2 (Dense)                  (None, 4096)              16781312  \n",
      "=================================================================\n",
      "Total params: 134,260,544\n",
      "Trainable params: 134,260,544\n",
      "Non-trainable params: 0\n",
      "_________________________________________________________________\n"
     ]
    }
   ],
   "source": [
    "vgg16_model.layers.pop()\n",
    "vgg16_model.summary()"
   ]
  },
  {
   "cell_type": "code",
   "execution_count": 7,
   "metadata": {},
   "outputs": [],
   "source": [
    "model = Sequential()\n",
    "for layer in vgg16_model.layers:\n",
    "    model.add(layer)"
   ]
  },
  {
   "cell_type": "code",
   "execution_count": 8,
   "metadata": {},
   "outputs": [
    {
     "name": "stdout",
     "output_type": "stream",
     "text": [
      "_________________________________________________________________\n",
      "Layer (type)                 Output Shape              Param #   \n",
      "=================================================================\n",
      "block1_conv1 (Conv2D)        (None, 224, 224, 64)      1792      \n",
      "_________________________________________________________________\n",
      "block1_conv2 (Conv2D)        (None, 224, 224, 64)      36928     \n",
      "_________________________________________________________________\n",
      "block1_pool (MaxPooling2D)   (None, 112, 112, 64)      0         \n",
      "_________________________________________________________________\n",
      "block2_conv1 (Conv2D)        (None, 112, 112, 128)     73856     \n",
      "_________________________________________________________________\n",
      "block2_conv2 (Conv2D)        (None, 112, 112, 128)     147584    \n",
      "_________________________________________________________________\n",
      "block2_pool (MaxPooling2D)   (None, 56, 56, 128)       0         \n",
      "_________________________________________________________________\n",
      "block3_conv1 (Conv2D)        (None, 56, 56, 256)       295168    \n",
      "_________________________________________________________________\n",
      "block3_conv2 (Conv2D)        (None, 56, 56, 256)       590080    \n",
      "_________________________________________________________________\n",
      "block3_conv3 (Conv2D)        (None, 56, 56, 256)       590080    \n",
      "_________________________________________________________________\n",
      "block3_pool (MaxPooling2D)   (None, 28, 28, 256)       0         \n",
      "_________________________________________________________________\n",
      "block4_conv1 (Conv2D)        (None, 28, 28, 512)       1180160   \n",
      "_________________________________________________________________\n",
      "block4_conv2 (Conv2D)        (None, 28, 28, 512)       2359808   \n",
      "_________________________________________________________________\n",
      "block4_conv3 (Conv2D)        (None, 28, 28, 512)       2359808   \n",
      "_________________________________________________________________\n",
      "block4_pool (MaxPooling2D)   (None, 14, 14, 512)       0         \n",
      "_________________________________________________________________\n",
      "block5_conv1 (Conv2D)        (None, 14, 14, 512)       2359808   \n",
      "_________________________________________________________________\n",
      "block5_conv2 (Conv2D)        (None, 14, 14, 512)       2359808   \n",
      "_________________________________________________________________\n",
      "block5_conv3 (Conv2D)        (None, 14, 14, 512)       2359808   \n",
      "_________________________________________________________________\n",
      "block5_pool (MaxPooling2D)   (None, 7, 7, 512)         0         \n",
      "_________________________________________________________________\n",
      "flatten (Flatten)            (None, 25088)             0         \n",
      "_________________________________________________________________\n",
      "fc1 (Dense)                  (None, 4096)              102764544 \n",
      "_________________________________________________________________\n",
      "fc2 (Dense)                  (None, 4096)              16781312  \n",
      "=================================================================\n",
      "Total params: 134,260,544\n",
      "Trainable params: 134,260,544\n",
      "Non-trainable params: 0\n",
      "_________________________________________________________________\n"
     ]
    }
   ],
   "source": [
    "model.summary()"
   ]
  },
  {
   "cell_type": "code",
   "execution_count": 9,
   "metadata": {},
   "outputs": [],
   "source": [
    "for layer in model.layers:\n",
    "    layer.trainable = False"
   ]
  },
  {
   "cell_type": "code",
   "execution_count": 10,
   "metadata": {},
   "outputs": [],
   "source": [
    "#model.add(Dense(10,activation= 'softmax',kernel_regularizer=regularizers.l2(0.01)))"
   ]
  },
  {
   "cell_type": "code",
   "execution_count": 11,
   "metadata": {},
   "outputs": [],
   "source": [
    "model.add(Dense(10,activation= 'softmax'))"
   ]
  },
  {
   "cell_type": "code",
   "execution_count": 12,
   "metadata": {},
   "outputs": [
    {
     "name": "stdout",
     "output_type": "stream",
     "text": [
      "_________________________________________________________________\n",
      "Layer (type)                 Output Shape              Param #   \n",
      "=================================================================\n",
      "block1_conv1 (Conv2D)        (None, 224, 224, 64)      1792      \n",
      "_________________________________________________________________\n",
      "block1_conv2 (Conv2D)        (None, 224, 224, 64)      36928     \n",
      "_________________________________________________________________\n",
      "block1_pool (MaxPooling2D)   (None, 112, 112, 64)      0         \n",
      "_________________________________________________________________\n",
      "block2_conv1 (Conv2D)        (None, 112, 112, 128)     73856     \n",
      "_________________________________________________________________\n",
      "block2_conv2 (Conv2D)        (None, 112, 112, 128)     147584    \n",
      "_________________________________________________________________\n",
      "block2_pool (MaxPooling2D)   (None, 56, 56, 128)       0         \n",
      "_________________________________________________________________\n",
      "block3_conv1 (Conv2D)        (None, 56, 56, 256)       295168    \n",
      "_________________________________________________________________\n",
      "block3_conv2 (Conv2D)        (None, 56, 56, 256)       590080    \n",
      "_________________________________________________________________\n",
      "block3_conv3 (Conv2D)        (None, 56, 56, 256)       590080    \n",
      "_________________________________________________________________\n",
      "block3_pool (MaxPooling2D)   (None, 28, 28, 256)       0         \n",
      "_________________________________________________________________\n",
      "block4_conv1 (Conv2D)        (None, 28, 28, 512)       1180160   \n",
      "_________________________________________________________________\n",
      "block4_conv2 (Conv2D)        (None, 28, 28, 512)       2359808   \n",
      "_________________________________________________________________\n",
      "block4_conv3 (Conv2D)        (None, 28, 28, 512)       2359808   \n",
      "_________________________________________________________________\n",
      "block4_pool (MaxPooling2D)   (None, 14, 14, 512)       0         \n",
      "_________________________________________________________________\n",
      "block5_conv1 (Conv2D)        (None, 14, 14, 512)       2359808   \n",
      "_________________________________________________________________\n",
      "block5_conv2 (Conv2D)        (None, 14, 14, 512)       2359808   \n",
      "_________________________________________________________________\n",
      "block5_conv3 (Conv2D)        (None, 14, 14, 512)       2359808   \n",
      "_________________________________________________________________\n",
      "block5_pool (MaxPooling2D)   (None, 7, 7, 512)         0         \n",
      "_________________________________________________________________\n",
      "flatten (Flatten)            (None, 25088)             0         \n",
      "_________________________________________________________________\n",
      "fc1 (Dense)                  (None, 4096)              102764544 \n",
      "_________________________________________________________________\n",
      "fc2 (Dense)                  (None, 4096)              16781312  \n",
      "_________________________________________________________________\n",
      "dense_1 (Dense)              (None, 10)                40970     \n",
      "=================================================================\n",
      "Total params: 134,301,514\n",
      "Trainable params: 40,970\n",
      "Non-trainable params: 134,260,544\n",
      "_________________________________________________________________\n"
     ]
    }
   ],
   "source": [
    "model.summary()"
   ]
  },
  {
   "cell_type": "code",
   "execution_count": 13,
   "metadata": {},
   "outputs": [],
   "source": [
    "# Compiling the CNN\n",
    "model.compile(optimizer = 'adam', loss='categorical_crossentropy', metrics = ['accuracy'])\n",
    "#model.optimizer.lr = 0.001"
   ]
  },
  {
   "cell_type": "code",
   "execution_count": 14,
   "metadata": {},
   "outputs": [],
   "source": [
    "# Fitting the CNN to the images\n",
    "# Image augmentation for reducing overfitting - Balancing bias and variance\n",
    "\n",
    "from keras.preprocessing.image import ImageDataGenerator"
   ]
  },
  {
   "cell_type": "code",
   "execution_count": 15,
   "metadata": {},
   "outputs": [],
   "source": [
    "train_datagen = ImageDataGenerator(\n",
    "        rescale=1./255,\n",
    "        shear_range=0.2,\n",
    "        zoom_range=0.2,\n",
    "        horizontal_flip=True)\n",
    "\n",
    "test_datagen = ImageDataGenerator(rescale=1./255)"
   ]
  },
  {
   "cell_type": "code",
   "execution_count": 16,
   "metadata": {},
   "outputs": [
    {
     "name": "stdout",
     "output_type": "stream",
     "text": [
      "Found 1097 images belonging to 10 classes.\n",
      "Found 272 images belonging to 10 classes.\n"
     ]
    }
   ],
   "source": [
    "train_generator = train_datagen.flow_from_directory('Monkey/training',\n",
    "                                                    target_size=(224, 224),\n",
    "                                                    batch_size= 32,\n",
    "                                                    class_mode='categorical')\n",
    "\n",
    "validation_generator = test_datagen.flow_from_directory('Monkey/validation',\n",
    "                                                        target_size=(224,224),\n",
    "                                                        batch_size=16,\n",
    "                                                        class_mode='categorical')"
   ]
  },
  {
   "cell_type": "code",
   "execution_count": 17,
   "metadata": {},
   "outputs": [
    {
     "name": "stdout",
     "output_type": "stream",
     "text": [
      "Epoch 1/100\n",
      "34/34 [==============================] - 47s 1s/step - loss: 2.3285 - acc: 0.2023 - val_loss: 2.0077 - val_acc: 0.2978\n",
      "Epoch 2/100\n",
      "34/34 [==============================] - 43s 1s/step - loss: 1.9036 - acc: 0.3108 - val_loss: 1.6104 - val_acc: 0.4301\n",
      "Epoch 3/100\n",
      "34/34 [==============================] - 43s 1s/step - loss: 1.6039 - acc: 0.4451 - val_loss: 1.4896 - val_acc: 0.4743\n",
      "Epoch 4/100\n",
      "34/34 [==============================] - 39s 1s/step - loss: 1.4975 - acc: 0.4917 - val_loss: 1.3219 - val_acc: 0.5662\n",
      "Epoch 5/100\n",
      "34/34 [==============================] - 38s 1s/step - loss: 1.3790 - acc: 0.5421 - val_loss: 1.3559 - val_acc: 0.5846\n",
      "Epoch 6/100\n",
      "34/34 [==============================] - 35s 1s/step - loss: 1.3141 - acc: 0.5715 - val_loss: 1.4457 - val_acc: 0.4926\n",
      "Epoch 7/100\n",
      "34/34 [==============================] - 35s 1s/step - loss: 1.3377 - acc: 0.5474 - val_loss: 1.2270 - val_acc: 0.6029\n",
      "Epoch 8/100\n",
      "34/34 [==============================] - 37s 1s/step - loss: 1.1911 - acc: 0.6101 - val_loss: 1.1089 - val_acc: 0.6434\n",
      "Epoch 9/100\n",
      "34/34 [==============================] - 36s 1s/step - loss: 1.2822 - acc: 0.5637 - val_loss: 1.2450 - val_acc: 0.5735\n",
      "Epoch 10/100\n",
      "34/34 [==============================] - 36s 1s/step - loss: 1.1268 - acc: 0.6221 - val_loss: 1.1948 - val_acc: 0.5625\n",
      "Epoch 11/100\n",
      "34/34 [==============================] - 36s 1s/step - loss: 1.1124 - acc: 0.6259 - val_loss: 1.2457 - val_acc: 0.5735\n",
      "Epoch 12/100\n",
      "34/34 [==============================] - 35s 1s/step - loss: 1.1394 - acc: 0.6154 - val_loss: 1.1468 - val_acc: 0.6287\n",
      "Epoch 13/100\n",
      "34/34 [==============================] - 36s 1s/step - loss: 1.0891 - acc: 0.6326 - val_loss: 1.0172 - val_acc: 0.6618\n",
      "Epoch 14/100\n",
      "34/34 [==============================] - 37s 1s/step - loss: 0.9779 - acc: 0.6951 - val_loss: 1.0522 - val_acc: 0.6397\n",
      "Epoch 15/100\n",
      "34/34 [==============================] - 34s 989ms/step - loss: 1.0439 - acc: 0.6607 - val_loss: 1.1024 - val_acc: 0.6287\n",
      "Epoch 16/100\n",
      "34/34 [==============================] - 36s 1s/step - loss: 1.0125 - acc: 0.6517 - val_loss: 1.0639 - val_acc: 0.6654\n",
      "Epoch 17/100\n",
      "34/34 [==============================] - 34s 993ms/step - loss: 1.0142 - acc: 0.6556 - val_loss: 1.0480 - val_acc: 0.6507\n",
      "Epoch 18/100\n",
      "34/34 [==============================] - 35s 1s/step - loss: 1.0087 - acc: 0.6633 - val_loss: 0.9401 - val_acc: 0.6949\n",
      "Epoch 19/100\n",
      "34/34 [==============================] - 33s 984ms/step - loss: 0.9121 - acc: 0.6897 - val_loss: 0.9148 - val_acc: 0.7132\n",
      "Epoch 20/100\n",
      "34/34 [==============================] - 36s 1s/step - loss: 0.9028 - acc: 0.6930 - val_loss: 0.9142 - val_acc: 0.7059\n",
      "Epoch 21/100\n",
      "34/34 [==============================] - 33s 983ms/step - loss: 0.8929 - acc: 0.7168 - val_loss: 0.9640 - val_acc: 0.6654\n",
      "Epoch 22/100\n",
      "34/34 [==============================] - 35s 1s/step - loss: 0.8874 - acc: 0.7104 - val_loss: 0.8927 - val_acc: 0.6985\n",
      "Epoch 23/100\n",
      "34/34 [==============================] - 34s 991ms/step - loss: 0.8107 - acc: 0.7544 - val_loss: 0.9406 - val_acc: 0.7022\n",
      "Epoch 24/100\n",
      "34/34 [==============================] - 39s 1s/step - loss: 0.8478 - acc: 0.7117 - val_loss: 1.0002 - val_acc: 0.6544\n",
      "Epoch 25/100\n",
      "34/34 [==============================] - 35s 1s/step - loss: 0.8206 - acc: 0.7283 - val_loss: 0.8574 - val_acc: 0.7243\n",
      "Epoch 26/100\n",
      "34/34 [==============================] - 34s 1s/step - loss: 0.8395 - acc: 0.7287 - val_loss: 0.9537 - val_acc: 0.6875\n",
      "Epoch 27/100\n",
      "34/34 [==============================] - 34s 1s/step - loss: 0.8833 - acc: 0.6915 - val_loss: 0.9535 - val_acc: 0.6618\n",
      "Epoch 28/100\n",
      "34/34 [==============================] - 36s 1s/step - loss: 0.8359 - acc: 0.7108 - val_loss: 0.8882 - val_acc: 0.7169\n",
      "Epoch 29/100\n",
      "34/34 [==============================] - 33s 972ms/step - loss: 0.8037 - acc: 0.7336 - val_loss: 0.8302 - val_acc: 0.7279\n",
      "Epoch 30/100\n",
      "34/34 [==============================] - 36s 1s/step - loss: 0.7909 - acc: 0.7417 - val_loss: 0.8499 - val_acc: 0.7243\n",
      "Epoch 31/100\n",
      "34/34 [==============================] - 34s 998ms/step - loss: 0.8025 - acc: 0.7219 - val_loss: 0.8938 - val_acc: 0.6875\n",
      "Epoch 32/100\n",
      "34/34 [==============================] - 34s 990ms/step - loss: 0.7909 - acc: 0.7315 - val_loss: 0.8693 - val_acc: 0.7206\n",
      "Epoch 33/100\n",
      "34/34 [==============================] - 36s 1s/step - loss: 0.8033 - acc: 0.7264 - val_loss: 0.8100 - val_acc: 0.7316\n",
      "Epoch 34/100\n",
      "34/34 [==============================] - 35s 1s/step - loss: 0.7374 - acc: 0.7701 - val_loss: 0.8732 - val_acc: 0.7132\n",
      "Epoch 35/100\n",
      "34/34 [==============================] - 34s 990ms/step - loss: 0.8231 - acc: 0.7167 - val_loss: 0.8914 - val_acc: 0.7022\n",
      "Epoch 36/100\n",
      "34/34 [==============================] - 34s 1s/step - loss: 0.7581 - acc: 0.7449 - val_loss: 0.8189 - val_acc: 0.7353\n",
      "Epoch 37/100\n",
      "34/34 [==============================] - 35s 1s/step - loss: 0.7360 - acc: 0.7527 - val_loss: 0.8006 - val_acc: 0.7279\n",
      "Epoch 38/100\n",
      "34/34 [==============================] - 35s 1s/step - loss: 0.7469 - acc: 0.7540 - val_loss: 0.8183 - val_acc: 0.7243\n",
      "Epoch 39/100\n",
      "34/34 [==============================] - 34s 1s/step - loss: 0.7768 - acc: 0.7388 - val_loss: 0.8833 - val_acc: 0.7059\n",
      "Epoch 40/100\n",
      "34/34 [==============================] - 34s 1s/step - loss: 0.7960 - acc: 0.7261 - val_loss: 1.0573 - val_acc: 0.6581\n",
      "Epoch 41/100\n",
      "34/34 [==============================] - 34s 1s/step - loss: 0.7512 - acc: 0.7534 - val_loss: 0.7480 - val_acc: 0.7463\n",
      "Epoch 42/100\n",
      "34/34 [==============================] - 34s 1s/step - loss: 0.7155 - acc: 0.7517 - val_loss: 0.8386 - val_acc: 0.7059\n",
      "Epoch 43/100\n",
      "34/34 [==============================] - 32s 948ms/step - loss: 0.7545 - acc: 0.7545 - val_loss: 0.8085 - val_acc: 0.7390\n",
      "Epoch 44/100\n",
      "34/34 [==============================] - 33s 981ms/step - loss: 0.6418 - acc: 0.8087 - val_loss: 0.8085 - val_acc: 0.7279\n",
      "Epoch 45/100\n",
      "34/34 [==============================] - 34s 999ms/step - loss: 0.6572 - acc: 0.7940 - val_loss: 0.7814 - val_acc: 0.7279\n",
      "Epoch 46/100\n",
      "34/34 [==============================] - 36s 1s/step - loss: 0.6159 - acc: 0.8051 - val_loss: 0.7334 - val_acc: 0.7684\n",
      "Epoch 47/100\n",
      "34/34 [==============================] - 32s 932ms/step - loss: 0.6574 - acc: 0.7812 - val_loss: 0.8195 - val_acc: 0.7279\n",
      "Epoch 48/100\n",
      "34/34 [==============================] - 34s 995ms/step - loss: 0.6896 - acc: 0.7787 - val_loss: 0.7941 - val_acc: 0.7537\n",
      "Epoch 49/100\n",
      "34/34 [==============================] - 35s 1s/step - loss: 0.6027 - acc: 0.7960 - val_loss: 0.7889 - val_acc: 0.7500\n",
      "Epoch 50/100\n",
      "34/34 [==============================] - 33s 970ms/step - loss: 0.6397 - acc: 0.7939 - val_loss: 0.7632 - val_acc: 0.7500\n",
      "Epoch 51/100\n",
      "34/34 [==============================] - 34s 990ms/step - loss: 0.5819 - acc: 0.8290 - val_loss: 0.7439 - val_acc: 0.7426\n",
      "Epoch 52/100\n",
      "34/34 [==============================] - 36s 1s/step - loss: 0.6139 - acc: 0.8137 - val_loss: 0.7476 - val_acc: 0.7537\n",
      "Epoch 53/100\n",
      "34/34 [==============================] - 33s 957ms/step - loss: 0.5945 - acc: 0.8253 - val_loss: 0.7191 - val_acc: 0.7757\n",
      "Epoch 54/100\n",
      "34/34 [==============================] - 35s 1s/step - loss: 0.5783 - acc: 0.8115 - val_loss: 0.7911 - val_acc: 0.7316\n",
      "Epoch 55/100\n",
      "34/34 [==============================] - 35s 1s/step - loss: 0.6012 - acc: 0.8055 - val_loss: 0.7540 - val_acc: 0.7537\n",
      "Epoch 56/100\n",
      "34/34 [==============================] - 34s 995ms/step - loss: 0.6154 - acc: 0.7853 - val_loss: 0.8061 - val_acc: 0.7500\n",
      "Epoch 57/100\n",
      "34/34 [==============================] - 36s 1s/step - loss: 0.6124 - acc: 0.7914 - val_loss: 0.7295 - val_acc: 0.7574\n",
      "Epoch 58/100\n",
      "34/34 [==============================] - 34s 987ms/step - loss: 0.6375 - acc: 0.7839 - val_loss: 0.8294 - val_acc: 0.7206\n",
      "Epoch 59/100\n",
      "34/34 [==============================] - 34s 1s/step - loss: 0.6412 - acc: 0.7775 - val_loss: 0.7184 - val_acc: 0.7647\n",
      "Epoch 60/100\n",
      "34/34 [==============================] - 36s 1s/step - loss: 0.5803 - acc: 0.8202 - val_loss: 0.7129 - val_acc: 0.7647\n",
      "Epoch 61/100\n",
      "34/34 [==============================] - 33s 977ms/step - loss: 0.6190 - acc: 0.7829 - val_loss: 0.8195 - val_acc: 0.7390\n",
      "Epoch 62/100\n"
     ]
    },
    {
     "name": "stdout",
     "output_type": "stream",
     "text": [
      "34/34 [==============================] - 36s 1s/step - loss: 0.5771 - acc: 0.8107 - val_loss: 0.7233 - val_acc: 0.7757\n",
      "Epoch 63/100\n",
      "34/34 [==============================] - 33s 985ms/step - loss: 0.6380 - acc: 0.7843 - val_loss: 0.8260 - val_acc: 0.7353\n",
      "Epoch 64/100\n",
      "34/34 [==============================] - 35s 1s/step - loss: 0.5732 - acc: 0.8162 - val_loss: 0.7361 - val_acc: 0.7463\n",
      "Epoch 65/100\n",
      "34/34 [==============================] - 33s 978ms/step - loss: 0.5800 - acc: 0.8087 - val_loss: 0.6889 - val_acc: 0.7794\n",
      "Epoch 66/100\n",
      "34/34 [==============================] - 35s 1s/step - loss: 0.5297 - acc: 0.8501 - val_loss: 0.7366 - val_acc: 0.7610\n",
      "Epoch 67/100\n",
      "34/34 [==============================] - 34s 1s/step - loss: 0.6045 - acc: 0.7977 - val_loss: 0.7402 - val_acc: 0.7610\n",
      "Epoch 68/100\n",
      "34/34 [==============================] - 34s 994ms/step - loss: 0.5964 - acc: 0.8023 - val_loss: 0.7390 - val_acc: 0.7463\n",
      "Epoch 69/100\n",
      "34/34 [==============================] - 35s 1s/step - loss: 0.5322 - acc: 0.8244 - val_loss: 0.7842 - val_acc: 0.7500\n",
      "Epoch 70/100\n",
      "34/34 [==============================] - 34s 997ms/step - loss: 0.5686 - acc: 0.7987 - val_loss: 0.7453 - val_acc: 0.7647\n",
      "Epoch 71/100\n",
      "34/34 [==============================] - 35s 1s/step - loss: 0.5085 - acc: 0.8441 - val_loss: 0.7544 - val_acc: 0.7390\n",
      "Epoch 72/100\n",
      "34/34 [==============================] - 36s 1s/step - loss: 0.5516 - acc: 0.8221 - val_loss: 0.7224 - val_acc: 0.7794\n",
      "Epoch 73/100\n",
      "34/34 [==============================] - 34s 1s/step - loss: 0.5303 - acc: 0.8239 - val_loss: 0.7717 - val_acc: 0.7500\n",
      "Epoch 74/100\n",
      "34/34 [==============================] - 33s 967ms/step - loss: 0.4894 - acc: 0.8400 - val_loss: 0.7494 - val_acc: 0.7574\n",
      "Epoch 75/100\n",
      "34/34 [==============================] - 36s 1s/step - loss: 0.5222 - acc: 0.8308 - val_loss: 0.8332 - val_acc: 0.7243\n",
      "Epoch 76/100\n",
      "34/34 [==============================] - 33s 968ms/step - loss: 0.5438 - acc: 0.8142 - val_loss: 0.8140 - val_acc: 0.7463\n",
      "Epoch 77/100\n",
      "34/34 [==============================] - 36s 1s/step - loss: 0.5368 - acc: 0.8143 - val_loss: 0.7948 - val_acc: 0.7353\n",
      "Epoch 78/100\n",
      "34/34 [==============================] - 35s 1s/step - loss: 0.5260 - acc: 0.8290 - val_loss: 0.7194 - val_acc: 0.7684\n",
      "Epoch 79/100\n",
      "34/34 [==============================] - 31s 926ms/step - loss: 0.4831 - acc: 0.8437 - val_loss: 0.7049 - val_acc: 0.7684\n",
      "Epoch 80/100\n",
      "34/34 [==============================] - 35s 1s/step - loss: 0.4877 - acc: 0.8395 - val_loss: 0.7183 - val_acc: 0.7757\n",
      "Epoch 81/100\n",
      "34/34 [==============================] - 34s 1s/step - loss: 0.4911 - acc: 0.8486 - val_loss: 0.7015 - val_acc: 0.7647\n",
      "Epoch 82/100\n",
      "34/34 [==============================] - 34s 999ms/step - loss: 0.4613 - acc: 0.8676 - val_loss: 0.7206 - val_acc: 0.7463\n",
      "Epoch 83/100\n",
      "34/34 [==============================] - 33s 985ms/step - loss: 0.5894 - acc: 0.8054 - val_loss: 0.7796 - val_acc: 0.7500\n",
      "Epoch 84/100\n",
      "34/34 [==============================] - 34s 1s/step - loss: 0.5162 - acc: 0.8285 - val_loss: 0.6776 - val_acc: 0.7904\n",
      "Epoch 85/100\n",
      "34/34 [==============================] - 35s 1s/step - loss: 0.4689 - acc: 0.8548 - val_loss: 0.6993 - val_acc: 0.7794\n",
      "Epoch 86/100\n",
      "34/34 [==============================] - 33s 960ms/step - loss: 0.4835 - acc: 0.8574 - val_loss: 0.7511 - val_acc: 0.7721\n",
      "Epoch 87/100\n",
      "34/34 [==============================] - 36s 1s/step - loss: 0.4719 - acc: 0.8318 - val_loss: 0.7078 - val_acc: 0.7757\n",
      "Epoch 88/100\n",
      "34/34 [==============================] - 34s 1s/step - loss: 0.5011 - acc: 0.8386 - val_loss: 0.8517 - val_acc: 0.7132\n",
      "Epoch 89/100\n",
      "34/34 [==============================] - 4235s 125s/step - loss: 0.5115 - acc: 0.8257 - val_loss: 0.7122 - val_acc: 0.7610\n",
      "Epoch 90/100\n",
      "34/34 [==============================] - 28s 814ms/step - loss: 0.5220 - acc: 0.8239 - val_loss: 0.8427 - val_acc: 0.7022\n",
      "Epoch 91/100\n",
      "34/34 [==============================] - 35s 1s/step - loss: 0.5013 - acc: 0.8381 - val_loss: 0.7521 - val_acc: 0.7426\n",
      "Epoch 92/100\n",
      "34/34 [==============================] - 33s 979ms/step - loss: 0.4547 - acc: 0.8671 - val_loss: 0.7329 - val_acc: 0.7647\n",
      "Epoch 93/100\n",
      "34/34 [==============================] - 33s 983ms/step - loss: 0.4678 - acc: 0.8376 - val_loss: 0.8311 - val_acc: 0.7463\n",
      "Epoch 94/100\n",
      "34/34 [==============================] - 34s 996ms/step - loss: 0.4866 - acc: 0.8419 - val_loss: 0.7421 - val_acc: 0.7647\n",
      "Epoch 95/100\n",
      "34/34 [==============================] - 35s 1s/step - loss: 0.4792 - acc: 0.8391 - val_loss: 0.7394 - val_acc: 0.7574\n",
      "Epoch 96/100\n",
      "34/34 [==============================] - 35s 1s/step - loss: 0.5358 - acc: 0.8161 - val_loss: 0.7968 - val_acc: 0.7684\n",
      "Epoch 97/100\n",
      "34/34 [==============================] - 35s 1s/step - loss: 0.4809 - acc: 0.8483 - val_loss: 0.7131 - val_acc: 0.7463\n",
      "Epoch 98/100\n",
      "34/34 [==============================] - 35s 1s/step - loss: 0.4679 - acc: 0.8515 - val_loss: 0.6973 - val_acc: 0.7941\n",
      "Epoch 99/100\n",
      "34/34 [==============================] - 34s 991ms/step - loss: 0.4584 - acc: 0.8519 - val_loss: 0.7736 - val_acc: 0.7647\n",
      "Epoch 100/100\n",
      "34/34 [==============================] - 36s 1s/step - loss: 0.4420 - acc: 0.8561 - val_loss: 0.7600 - val_acc: 0.7500\n"
     ]
    },
    {
     "data": {
      "text/plain": [
       "<keras.callbacks.History at 0x202fed09c50>"
      ]
     },
     "execution_count": 17,
     "metadata": {},
     "output_type": "execute_result"
    }
   ],
   "source": [
    "#steps_per_epoch - no of training data image\n",
    "#validation_steps - no of testing data image\n",
    "model.fit_generator(train_generator,\n",
    "                         steps_per_epoch=34,       #1097/32\n",
    "                         epochs=100,\n",
    "                         validation_data=validation_generator,\n",
    "                         validation_steps=17)   #272/16"
   ]
  },
  {
   "cell_type": "code",
   "execution_count": 61,
   "metadata": {},
   "outputs": [],
   "source": [
    "import numpy as np\n",
    "from keras.utils import np_utils\n",
    "from sklearn import preprocessing\n",
    "from sklearn.preprocessing import LabelEncoder\n",
    "from keras.utils.np_utils import to_categorical\n",
    "from numpy import array\n",
    "from numpy import argmax\n",
    "from sklearn.metrics import roc_curve, roc_auc_score, auc"
   ]
  },
  {
   "cell_type": "code",
   "execution_count": 1,
   "metadata": {},
   "outputs": [
    {
     "ename": "NameError",
     "evalue": "name 'validation_generator' is not defined",
     "output_type": "error",
     "traceback": [
      "\u001b[1;31m---------------------------------------------------------------------------\u001b[0m",
      "\u001b[1;31mNameError\u001b[0m                                 Traceback (most recent call last)",
      "\u001b[1;32m<ipython-input-1-255d37acbb03>\u001b[0m in \u001b[0;36m<module>\u001b[1;34m\u001b[0m\n\u001b[1;32m----> 1\u001b[1;33m \u001b[0mtest_imgs\u001b[0m\u001b[1;33m,\u001b[0m\u001b[0mtest_labels\u001b[0m \u001b[1;33m=\u001b[0m \u001b[0mnext\u001b[0m\u001b[1;33m(\u001b[0m\u001b[0mvalidation_generator\u001b[0m\u001b[1;33m)\u001b[0m\u001b[1;33m\u001b[0m\u001b[0m\n\u001b[0m\u001b[0;32m      2\u001b[0m \u001b[0mpredicted\u001b[0m \u001b[1;33m=\u001b[0m \u001b[0mmodel\u001b[0m\u001b[1;33m.\u001b[0m\u001b[0mpredict_classes\u001b[0m\u001b[1;33m(\u001b[0m\u001b[0mtest_imgs\u001b[0m\u001b[1;33m)\u001b[0m\u001b[1;33m\u001b[0m\u001b[0m\n\u001b[0;32m      3\u001b[0m \u001b[0mpredicted_\u001b[0m \u001b[1;33m=\u001b[0m \u001b[0mnp\u001b[0m\u001b[1;33m.\u001b[0m\u001b[0margmax\u001b[0m\u001b[1;33m(\u001b[0m\u001b[0mto_categorical\u001b[0m\u001b[1;33m(\u001b[0m\u001b[0mpredicted\u001b[0m\u001b[1;33m)\u001b[0m\u001b[1;33m,\u001b[0m \u001b[0maxis\u001b[0m\u001b[1;33m=\u001b[0m\u001b[1;36m1\u001b[0m\u001b[1;33m)\u001b[0m\u001b[1;33m\u001b[0m\u001b[0m\n\u001b[0;32m      4\u001b[0m \u001b[0mprint\u001b[0m\u001b[1;33m(\u001b[0m\u001b[0mpredicted_\u001b[0m\u001b[1;33m)\u001b[0m\u001b[1;33m\u001b[0m\u001b[0m\n\u001b[0;32m      5\u001b[0m \u001b[0mprint\u001b[0m\u001b[1;33m(\u001b[0m\u001b[0mpredicted_\u001b[0m\u001b[1;33m.\u001b[0m\u001b[0mshape\u001b[0m\u001b[1;33m)\u001b[0m\u001b[1;33m\u001b[0m\u001b[0m\n",
      "\u001b[1;31mNameError\u001b[0m: name 'validation_generator' is not defined"
     ]
    }
   ],
   "source": [
    "test_imgs,test_labels = next(validation_generator)\n",
    "predicted = model.predict_classes(test_imgs)\n",
    "predicted_ = np.argmax(to_categorical(predicted), axis=1)\n",
    "print(predicted_)\n",
    "print(predicted_.shape)\n",
    "#print(test_labels)\n",
    "\n",
    "preditions = model.predict_proba(test_imgs)\n",
    "\n",
    "rrow = len(test_labels)\n",
    "ccol = np.size(test_labels,1) \n",
    "\n",
    "# print(rrow)\n",
    "# print(ccol)\n",
    "\n",
    "actual_labels = np.arange(rrow)\n",
    "actual_labels.reshape(rrow,)\n",
    "print(actual_labels.shape)\n",
    "\n",
    "\n",
    "\n",
    "for i in range(rrow):\n",
    "     for j in range(ccol):\n",
    "         if test_labels[i][j] == 1:\n",
    "             actual_labels[i] = j\n",
    "            \n",
    "for i, j in zip(predicted_,actual_labels):\n",
    "    print( \"Predicted class for monkey is {}, and the actual class of monkey is {}\".format(i,j))\n",
    "\n",
    "# # # Calculate total roc auc score\n",
    "# # score = roc_auc_score(test_labels,predicted_.reshape(-1,1))\n",
    "# # print(\"Total roc auc score = {0:0.4f}\".format(score))\n",
    "# fpr, tpr, _ = roc_curve(test_labels, predictions[:,1])\n",
    "    \n",
    "from sklearn.metrics import confusion_matrix\n",
    "cm = confusion_matrix(actual_labels,predicted_)\n",
    "print(cm)\n"
   ]
  },
  {
   "cell_type": "code",
   "execution_count": null,
   "metadata": {},
   "outputs": [],
   "source": []
  }
 ],
 "metadata": {
  "kernelspec": {
   "display_name": "Python 3",
   "language": "python",
   "name": "python3"
  },
  "language_info": {
   "codemirror_mode": {
    "name": "ipython",
    "version": 3
   },
   "file_extension": ".py",
   "mimetype": "text/x-python",
   "name": "python",
   "nbconvert_exporter": "python",
   "pygments_lexer": "ipython3",
   "version": "3.6.6"
  }
 },
 "nbformat": 4,
 "nbformat_minor": 2
}
